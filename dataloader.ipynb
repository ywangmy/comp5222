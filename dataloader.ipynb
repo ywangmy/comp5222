{
 "cells": [
  {
   "cell_type": "code",
   "execution_count": 7,
   "metadata": {},
   "outputs": [],
   "source": [
    "#\n",
    "# Created on Fri Nov 24 2023 00:57:09\n",
    "# Author: Mukai (Tom Notch) Yu\n",
    "# Email: myual@connect.ust.hk\n",
    "# Affiliation: Hong Kong University of Science and Technology\n",
    "#\n",
    "# Copyright Ⓒ 2023 Mukai (Tom Notch) Yu\n",
    "#\n",
    "import cv2\n",
    "import numpy as np\n",
    "import torch\n",
    "from scipy.spatial.distance import cdist\n",
    "from torch.utils.data import Dataset\n",
    "\n",
    "from utils.files import read_file, print_dict"
   ]
  },
  {
   "cell_type": "code",
   "execution_count": 8,
   "metadata": {},
   "outputs": [
    {
     "name": "stdout",
     "output_type": "stream",
     "text": [
      "train: \n",
      "  batch_size: 32.0\n",
      "  epochs: 10.0\n",
      "  learning_rate: 0.0001\n",
      "  dataset: \n",
      "    COCO: \n",
      "      path: ./COCO2014/train2014\n",
      "      fraction: 0.001\n",
      "      resize: [640.0, 480.0]\n",
      "      shuffle: true\n",
      "    ScanNet: \n",
      "      path: ./ScanNet/train\n",
      "      fraction: 0.001\n",
      "      resize: [640.0, 480.0]\n",
      "      shuffle: true\n",
      "eval: \n",
      "  output_dir: ./dump_match_pairs/\n",
      "  batch_size: 32.0\n",
      "  eval_interval: 5.0\n",
      "  dataset: \n",
      "    COCO: \n",
      "      path: ./COCO2014/eval2014\n",
      "      fraction: 0.001\n",
      "      resize: [640.0, 480.0]\n",
      "      shuffle: true\n",
      "    ScanNet: \n",
      "      path: ./ScanNet/eval\n",
      "      fraction: 0.001\n",
      "      resize: [640.0, 480.0]\n",
      "      shuffle: true\n",
      "superglue: \n",
      "  num_layers: 3.0\n",
      "  sinkhorn_iterations: 10.0\n",
      "  match_threshold: 0.2\n",
      "  descriptor_dim: 256.0\n",
      "feature_extraction: \n",
      "  max_keypoints: 64.0\n",
      "  descriptor_dim: 256.0\n",
      "  extractor: \n",
      "    SIFT: \n",
      "      contrastThreshold: 0.04\n",
      "      edgeThreshold: 10.0\n",
      "      sigma: 1.6\n",
      "    superpoint: \n",
      "      keypoint_threshold: 0.005\n",
      "      nms_radius: 4.0\n",
      "      match_threshold: 0.2\n",
      "      remove_borders: 4.0\n",
      "      model_path: ./superpoint_v1.pth\n",
      "visualize: true # Visualize the matches and dump the plots\n",
      "visualize_output_dir: ./dump_match_pairs/   # Output directory for the visualization\n"
     ]
    }
   ],
   "source": [
    "config = read_file(\"./configs/default.yaml\")\n",
    "print_dict(config)"
   ]
  },
  {
   "cell_type": "code",
   "execution_count": 9,
   "metadata": {},
   "outputs": [],
   "source": [
    "class COCOTrainingDataset(Dataset):\n",
    "    def __init__(self, config: dict):\n",
    "        self.config = config\n",
    "        self.path = config[\"path\"]\n",
    "        self.fraction = config[\"fraction\"]\n",
    "        self.resize = config[\"resize\"]\n",
    "        self.shuffle = config[\"shuffle\"]"
   ]
  },
  {
   "cell_type": "code",
   "execution_count": 10,
   "metadata": {},
   "outputs": [],
   "source": [
    "coco_training_dataset = COCOTrainingDataset(config[\"train\"][\"dataset\"][\"COCO\"])"
   ]
  }
 ],
 "metadata": {
  "kernelspec": {
   "display_name": "gnn-feature-matching",
   "language": "python",
   "name": "python3"
  },
  "language_info": {
   "codemirror_mode": {
    "name": "ipython",
    "version": 3
   },
   "file_extension": ".py",
   "mimetype": "text/x-python",
   "name": "python",
   "nbconvert_exporter": "python",
   "pygments_lexer": "ipython3",
   "version": "3.10.13"
  }
 },
 "nbformat": 4,
 "nbformat_minor": 2
}
